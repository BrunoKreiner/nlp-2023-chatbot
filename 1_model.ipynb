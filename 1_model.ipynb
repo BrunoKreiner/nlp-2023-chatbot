{
 "cells": [
  {
   "cell_type": "code",
   "execution_count": 9,
   "metadata": {},
   "outputs": [
    {
     "name": "stdout",
     "output_type": "stream",
     "text": [
      "Requirement already satisfied: transformers[torch] in c:\\users\\shwet\\anaconda3\\lib\\site-packages (4.30.1)\n",
      "Requirement already satisfied: packaging>=20.0 in c:\\users\\shwet\\anaconda3\\lib\\site-packages (from transformers[torch]) (21.3)\n",
      "Requirement already satisfied: filelock in c:\\users\\shwet\\anaconda3\\lib\\site-packages (from transformers[torch]) (3.6.0)\n",
      "Requirement already satisfied: tokenizers!=0.11.3,<0.14,>=0.11.1 in c:\\users\\shwet\\anaconda3\\lib\\site-packages (from transformers[torch]) (0.13.3)\n",
      "Requirement already satisfied: regex!=2019.12.17 in c:\\users\\shwet\\anaconda3\\lib\\site-packages (from transformers[torch]) (2022.7.9)\n",
      "Requirement already satisfied: requests in c:\\users\\shwet\\anaconda3\\lib\\site-packages (from transformers[torch]) (2.28.1)\n",
      "Requirement already satisfied: safetensors>=0.3.1 in c:\\users\\shwet\\anaconda3\\lib\\site-packages (from transformers[torch]) (0.3.1)\n",
      "Requirement already satisfied: pyyaml>=5.1 in c:\\users\\shwet\\anaconda3\\lib\\site-packages (from transformers[torch]) (6.0)\n",
      "Requirement already satisfied: tqdm>=4.27 in c:\\users\\shwet\\anaconda3\\lib\\site-packages (from transformers[torch]) (4.64.1)\n",
      "Requirement already satisfied: numpy>=1.17 in c:\\users\\shwet\\anaconda3\\lib\\site-packages (from transformers[torch]) (1.21.5)\n",
      "Requirement already satisfied: huggingface-hub<1.0,>=0.14.1 in c:\\users\\shwet\\anaconda3\\lib\\site-packages (from transformers[torch]) (0.15.1)\n",
      "Requirement already satisfied: torch!=1.12.0,>=1.9 in c:\\users\\shwet\\anaconda3\\lib\\site-packages (from transformers[torch]) (2.0.1)\n",
      "Collecting accelerate>=0.20.2\n",
      "  Downloading accelerate-0.20.3-py3-none-any.whl (227 kB)\n",
      "     -------------------------------------- 227.6/227.6 kB 4.6 MB/s eta 0:00:00\n",
      "Requirement already satisfied: psutil in c:\\users\\shwet\\anaconda3\\lib\\site-packages (from accelerate>=0.20.2->transformers[torch]) (5.9.0)\n",
      "Requirement already satisfied: fsspec in c:\\users\\shwet\\anaconda3\\lib\\site-packages (from huggingface-hub<1.0,>=0.14.1->transformers[torch]) (2022.7.1)\n",
      "Requirement already satisfied: typing-extensions>=3.7.4.3 in c:\\users\\shwet\\anaconda3\\lib\\site-packages (from huggingface-hub<1.0,>=0.14.1->transformers[torch]) (4.3.0)\n",
      "Requirement already satisfied: pyparsing!=3.0.5,>=2.0.2 in c:\\users\\shwet\\anaconda3\\lib\\site-packages (from packaging>=20.0->transformers[torch]) (3.0.9)\n",
      "Requirement already satisfied: networkx in c:\\users\\shwet\\anaconda3\\lib\\site-packages (from torch!=1.12.0,>=1.9->transformers[torch]) (2.8.4)\n",
      "Requirement already satisfied: jinja2 in c:\\users\\shwet\\anaconda3\\lib\\site-packages (from torch!=1.12.0,>=1.9->transformers[torch]) (2.11.3)\n",
      "Requirement already satisfied: sympy in c:\\users\\shwet\\anaconda3\\lib\\site-packages (from torch!=1.12.0,>=1.9->transformers[torch]) (1.10.1)\n",
      "Requirement already satisfied: colorama in c:\\users\\shwet\\anaconda3\\lib\\site-packages (from tqdm>=4.27->transformers[torch]) (0.4.5)\n",
      "Requirement already satisfied: urllib3<1.27,>=1.21.1 in c:\\users\\shwet\\anaconda3\\lib\\site-packages (from requests->transformers[torch]) (1.26.11)\n",
      "Requirement already satisfied: idna<4,>=2.5 in c:\\users\\shwet\\anaconda3\\lib\\site-packages (from requests->transformers[torch]) (3.3)\n",
      "Requirement already satisfied: charset-normalizer<3,>=2 in c:\\users\\shwet\\anaconda3\\lib\\site-packages (from requests->transformers[torch]) (2.0.4)\n",
      "Requirement already satisfied: certifi>=2017.4.17 in c:\\users\\shwet\\anaconda3\\lib\\site-packages (from requests->transformers[torch]) (2022.9.14)\n",
      "Requirement already satisfied: MarkupSafe>=0.23 in c:\\users\\shwet\\anaconda3\\lib\\site-packages (from jinja2->torch!=1.12.0,>=1.9->transformers[torch]) (2.0.1)\n",
      "Requirement already satisfied: mpmath>=0.19 in c:\\users\\shwet\\anaconda3\\lib\\site-packages (from sympy->torch!=1.12.0,>=1.9->transformers[torch]) (1.2.1)\n",
      "Installing collected packages: accelerate\n",
      "Successfully installed accelerate-0.20.3\n"
     ]
    }
   ],
   "source": [
    "#!pip install transformers\n",
    "#!pip install huggingface_hub\n",
    "#!pip install datasets\n",
    "#!pip install torch\n",
    "!pip install transformers[torch]"
   ]
  },
  {
   "cell_type": "code",
   "execution_count": 1,
   "metadata": {},
   "outputs": [],
   "source": [
    "from sklearn.model_selection import train_test_split\n",
    "from datasets import load_dataset, load_metric"
   ]
  },
  {
   "cell_type": "code",
   "execution_count": 2,
   "metadata": {},
   "outputs": [
    {
     "data": {
      "application/vnd.jupyter.widget-view+json": {
       "model_id": "8460701de5ea4e77933be85c05e61fc5",
       "version_major": 2,
       "version_minor": 0
      },
      "text/plain": [
       "VBox(children=(HTML(value='<center> <img\\nsrc=https://huggingface.co/front/assets/huggingface_logo-noborder.sv…"
      ]
     },
     "metadata": {},
     "output_type": "display_data"
    }
   ],
   "source": [
    "from huggingface_hub import notebook_login\n",
    "\n",
    "notebook_login()"
   ]
  },
  {
   "cell_type": "code",
   "execution_count": 3,
   "metadata": {},
   "outputs": [
    {
     "name": "stderr",
     "output_type": "stream",
     "text": [
      "Found cached dataset piqa (/home/bruno/.cache/huggingface/datasets/piqa/plain_text/1.1.0/6c611c1a9bf220943c4174e117d3b660859665baf1d43156230116185312d011)\n"
     ]
    },
    {
     "data": {
      "application/vnd.jupyter.widget-view+json": {
       "model_id": "06c5562e9eba4752ae38ebd3903c4640",
       "version_major": 2,
       "version_minor": 0
      },
      "text/plain": [
       "  0%|          | 0/3 [00:00<?, ?it/s]"
      ]
     },
     "metadata": {},
     "output_type": "display_data"
    }
   ],
   "source": [
    "datasets = load_dataset(\"piqa\")"
   ]
  },
  {
   "cell_type": "code",
   "execution_count": 4,
   "metadata": {},
   "outputs": [
    {
     "data": {
      "text/plain": [
       "dict_keys(['train', 'test', 'validation'])"
      ]
     },
     "execution_count": 4,
     "metadata": {},
     "output_type": "execute_result"
    }
   ],
   "source": [
    "datasets.keys()"
   ]
  },
  {
   "cell_type": "code",
   "execution_count": 5,
   "metadata": {},
   "outputs": [
    {
     "data": {
      "text/plain": [
       "\"When boiling butter, when it's ready, you can\""
      ]
     },
     "execution_count": 5,
     "metadata": {},
     "output_type": "execute_result"
    }
   ],
   "source": [
    "datasets[\"train\"][0][\"goal\"]"
   ]
  },
  {
   "cell_type": "code",
   "execution_count": 6,
   "metadata": {},
   "outputs": [],
   "source": [
    "import re\n",
    "\n",
    "def preprocess_intents_json(segment):\n",
    "    \n",
    "    preprocessed_data = []\n",
    "    \n",
    "    for data in datasets[segment]:\n",
    "        preprocessed_data.append(f\"Goal: {data['goal']}\\n\")\n",
    "        if data['label']=='1':\n",
    "            preprocessed_data.append(f\"Solution: {data['sol2']}\\n\")\n",
    "        else:\n",
    "            preprocessed_data.append(f\"Solution: {data['sol1']}\\n\")\n",
    "    \n",
    "    return \"\".join(preprocessed_data)\n",
    "\n",
    "def save_preprocessed_data(preprocessed_data, output_file):\n",
    "    with open(output_file, \"w\") as f:\n",
    "        f.write(preprocessed_data)\n",
    "\n",
    "\n",
    "output_file = f\"./data/data_train.txt\"\n",
    "preprocessed_data = preprocess_intents_json(\"train\")\n",
    "preprocessed_data = re.sub(r'\\n+', '\\n', preprocessed_data).strip() \n",
    "save_preprocessed_data(preprocessed_data, output_file)\n",
    "\n",
    "output_file = f\"./data/data_validation.txt\"\n",
    "preprocessed_data = preprocess_intents_json(\"validation\")\n",
    "preprocessed_data = re.sub(r'\\n+', '\\n', preprocessed_data).strip() \n",
    "save_preprocessed_data(preprocessed_data, output_file)\n",
    "\n",
    "output_file = f\"./data/data_test.txt\"\n",
    "preprocessed_data = preprocess_intents_json(\"test\")\n",
    "preprocessed_data = re.sub(r'\\n+', '\\n', preprocessed_data).strip() \n",
    "save_preprocessed_data(preprocessed_data, output_file)"
   ]
  },
  {
   "attachments": {},
   "cell_type": "markdown",
   "metadata": {},
   "source": [
    "## Preprocessing Data"
   ]
  },
  {
   "cell_type": "code",
   "execution_count": 7,
   "metadata": {},
   "outputs": [],
   "source": [
    "import torch\n",
    "from transformers import GPT2Tokenizer, GPT2LMHeadModel, TextDataset, DataCollatorForLanguageModeling, Trainer, TrainingArguments"
   ]
  },
  {
   "cell_type": "code",
   "execution_count": 8,
   "metadata": {},
   "outputs": [
    {
     "name": "stderr",
     "output_type": "stream",
     "text": [
      "/media/bruno/0d2f61d2-2b9c-4043-9a46-8e4dfe74fc95/bruno/anaconda3/envs/nlp-mc2/lib/python3.10/site-packages/transformers/data/datasets/language_modeling.py:53: FutureWarning: This dataset will be removed from the library soon, preprocessing should be handled with the 🤗 Datasets library. You can have a look at this example script for pointers: https://github.com/huggingface/transformers/blob/main/examples/pytorch/language-modeling/run_mlm.py\n",
      "  warnings.warn(\n"
     ]
    }
   ],
   "source": [
    "train_file_path = \"./data/data_train.txt\"\n",
    "test_file_path = \"./data/data_test.txt\"\n",
    "model_name = \"gpt2\"\n",
    "output_dir = \"./models/gpt2-fine-tuned\"\n",
    "batch_size = 2\n",
    "num_train_epochs = 5\n",
    "\n",
    "tokenizer = GPT2Tokenizer.from_pretrained(model_name)\n",
    "model = GPT2LMHeadModel.from_pretrained(model_name)\n",
    "\n",
    "train_dataset = TextDataset(tokenizer=tokenizer, file_path=train_file_path, block_size=512) \n",
    "test_dataset = TextDataset(tokenizer=tokenizer, file_path=test_file_path, block_size=512)\n",
    "data_collator = DataCollatorForLanguageModeling(tokenizer=tokenizer, mlm=False)\n",
    "\n",
    "training_args = TrainingArguments(\n",
    "    output_dir=output_dir,\n",
    "    overwrite_output_dir=True,\n",
    "    num_train_epochs=num_train_epochs,\n",
    "    per_device_train_batch_size=batch_size,\n",
    "    per_device_eval_batch_size=batch_size,\n",
    "    eval_steps=500,\n",
    "    save_steps=1000,\n",
    "    save_total_limit=2,\n",
    "    logging_steps=100,\n",
    "    logging_dir='./logs',\n",
    "    gradient_accumulation_steps=1,\n",
    "    learning_rate=1e-4,\n",
    ")"
   ]
  },
  {
   "cell_type": "code",
   "execution_count": 9,
   "metadata": {},
   "outputs": [],
   "source": [
    "trainer = Trainer(\n",
    "    model=model,\n",
    "    args=training_args,\n",
    "    data_collator=data_collator,\n",
    "    train_dataset=train_dataset,\n",
    "    eval_dataset=test_dataset,\n",
    ")"
   ]
  },
  {
   "cell_type": "code",
   "execution_count": 10,
   "metadata": {},
   "outputs": [
    {
     "name": "stderr",
     "output_type": "stream",
     "text": [
      "/media/bruno/0d2f61d2-2b9c-4043-9a46-8e4dfe74fc95/bruno/anaconda3/envs/nlp-mc2/lib/python3.10/site-packages/transformers/optimization.py:411: FutureWarning: This implementation of AdamW is deprecated and will be removed in a future version. Use the PyTorch implementation torch.optim.AdamW instead, or set `no_deprecation_warning=True` to disable this warning\n",
      "  warnings.warn(\n"
     ]
    },
    {
     "data": {
      "application/vnd.jupyter.widget-view+json": {
       "model_id": "d609968f4399402381bbf7310065314b",
       "version_major": 2,
       "version_minor": 0
      },
      "text/plain": [
       "  0%|          | 0/2950 [00:00<?, ?it/s]"
      ]
     },
     "metadata": {},
     "output_type": "display_data"
    },
    {
     "name": "stdout",
     "output_type": "stream",
     "text": [
      "{'loss': 3.0265, 'learning_rate': 9.661016949152543e-05, 'epoch': 0.17}\n",
      "{'loss': 2.9209, 'learning_rate': 9.322033898305085e-05, 'epoch': 0.34}\n",
      "{'loss': 2.875, 'learning_rate': 8.983050847457629e-05, 'epoch': 0.51}\n",
      "{'loss': 2.8509, 'learning_rate': 8.644067796610171e-05, 'epoch': 0.68}\n",
      "{'loss': 2.8321, 'learning_rate': 8.305084745762712e-05, 'epoch': 0.85}\n",
      "{'loss': 2.775, 'learning_rate': 7.966101694915254e-05, 'epoch': 1.02}\n",
      "{'loss': 2.5583, 'learning_rate': 7.627118644067796e-05, 'epoch': 1.19}\n",
      "{'loss': 2.5782, 'learning_rate': 7.288135593220338e-05, 'epoch': 1.36}\n",
      "{'loss': 2.5665, 'learning_rate': 6.949152542372882e-05, 'epoch': 1.53}\n",
      "{'loss': 2.5422, 'learning_rate': 6.610169491525424e-05, 'epoch': 1.69}\n",
      "{'loss': 2.5471, 'learning_rate': 6.271186440677966e-05, 'epoch': 1.86}\n",
      "{'loss': 2.5006, 'learning_rate': 5.932203389830509e-05, 'epoch': 2.03}\n",
      "{'loss': 2.3632, 'learning_rate': 5.593220338983051e-05, 'epoch': 2.2}\n",
      "{'loss': 2.3813, 'learning_rate': 5.254237288135594e-05, 'epoch': 2.37}\n",
      "{'loss': 2.3407, 'learning_rate': 4.915254237288136e-05, 'epoch': 2.54}\n",
      "{'loss': 2.3928, 'learning_rate': 4.5762711864406784e-05, 'epoch': 2.71}\n",
      "{'loss': 2.3851, 'learning_rate': 4.2372881355932206e-05, 'epoch': 2.88}\n",
      "{'loss': 2.3273, 'learning_rate': 3.898305084745763e-05, 'epoch': 3.05}\n",
      "{'loss': 2.2463, 'learning_rate': 3.559322033898305e-05, 'epoch': 3.22}\n",
      "{'loss': 2.2648, 'learning_rate': 3.2203389830508473e-05, 'epoch': 3.39}\n",
      "{'loss': 2.2401, 'learning_rate': 2.88135593220339e-05, 'epoch': 3.56}\n",
      "{'loss': 2.2356, 'learning_rate': 2.5423728813559322e-05, 'epoch': 3.73}\n",
      "{'loss': 2.2407, 'learning_rate': 2.2033898305084748e-05, 'epoch': 3.9}\n",
      "{'loss': 2.2243, 'learning_rate': 1.864406779661017e-05, 'epoch': 4.07}\n",
      "{'loss': 2.1495, 'learning_rate': 1.5254237288135596e-05, 'epoch': 4.24}\n",
      "{'loss': 2.1673, 'learning_rate': 1.1864406779661018e-05, 'epoch': 4.41}\n",
      "{'loss': 2.1656, 'learning_rate': 8.47457627118644e-06, 'epoch': 4.58}\n",
      "{'loss': 2.1431, 'learning_rate': 5.084745762711865e-06, 'epoch': 4.75}\n",
      "{'loss': 2.1584, 'learning_rate': 1.6949152542372882e-06, 'epoch': 4.92}\n",
      "{'train_runtime': 310.3328, 'train_samples_per_second': 18.996, 'train_steps_per_second': 9.506, 'train_loss': 2.443848501948987, 'epoch': 5.0}\n"
     ]
    },
    {
     "data": {
      "text/plain": [
       "TrainOutput(global_step=2950, training_loss=2.443848501948987, metrics={'train_runtime': 310.3328, 'train_samples_per_second': 18.996, 'train_steps_per_second': 9.506, 'train_loss': 2.443848501948987, 'epoch': 5.0})"
      ]
     },
     "execution_count": 10,
     "metadata": {},
     "output_type": "execute_result"
    }
   ],
   "source": [
    "trainer.train()"
   ]
  }
 ],
 "metadata": {
  "kernelspec": {
   "display_name": "base",
   "language": "python",
   "name": "python3"
  },
  "language_info": {
   "codemirror_mode": {
    "name": "ipython",
    "version": 3
   },
   "file_extension": ".py",
   "mimetype": "text/x-python",
   "name": "python",
   "nbconvert_exporter": "python",
   "pygments_lexer": "ipython3",
   "version": "3.10.11"
  },
  "orig_nbformat": 4
 },
 "nbformat": 4,
 "nbformat_minor": 2
}
